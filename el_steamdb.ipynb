{
 "cells": [
  {
   "cell_type": "markdown",
   "metadata": {},
   "source": [
    "<a href=\"https://github.com/Filipecdj\" rel=\"some text\">\n",
    "  <img src=\"https://processodevendas.com/wp-content/uploads/2022/03/PRINCIPAL-FUNDO-ESCURO.png\" height=\"200px\" style=\"display: block; margin: auto;\">\n",
    "</a>\n",
    "\n",
    "\n",
    "<h2 style=\"text-align:center\">Case Engenheiro de Dados Jr</h2>\n",
    "<p style=\"text-align:center;font-size:13px;\"></p>\n",
    "   \n",
    "<h2 style=\"text-align:center\">Filipe Carvalho de Jesus</h2>\n",
    "<p style=\"text-align:center;font-size:13px;\">Autor</p>"
   ]
  },
  {
   "cell_type": "markdown",
   "metadata": {},
   "source": [
    "## Bibliotecas utilizadas para realizar o procedimendo de EL."
   ]
  },
  {
   "cell_type": "code",
   "execution_count": 1,
   "metadata": {},
   "outputs": [],
   "source": [
    "import requests\n",
    "import pandas as pd\n",
    "from google.cloud import bigquery\n",
    "from google.oauth2 import service_account\n",
    "from bs4 import BeautifulSoup"
   ]
  },
  {
   "cell_type": "markdown",
   "metadata": {},
   "source": [
    "## Headers de configuração para realizar a requisição HTTP."
   ]
  },
  {
   "cell_type": "code",
   "execution_count": 2,
   "metadata": {},
   "outputs": [],
   "source": [
    "url = \"https://steamdb.info/sales/\"\n",
    "headers = {\n",
    "    \"authority\": \"steamdb.info\",\n",
    "    \"accept\": \"text/html,application/xhtml+xml,application/xml;q=0.9,image/avif,image/webp,image/apng,*/*;q=0.8,application/signed-exchange;v=b3;q=0.7\",\n",
    "    \"accept-language\": \"pt-BR,pt;q=0.9\",\n",
    "    \"cache-control\": \"max-age=0\",\n",
    "    \"content-type\": \"application/x-www-form-urlencoded\",\n",
    "    \"cookie\": \"cf_chl_2=8c153121ae2019c; cf_clearance=MWSSDQfEq0_gJvLhWE9dE2QXeudL9nedwuJLrMUnO1o-1688675358-0-160; __cf_bm=QSkJRA7I.lw5lSox1kpYKCrx7_0.Pr6Z5V1FnSus9WU-1688675363-0-AXa5OP0Kn96BlWN20sfqTEmIkBYAvEtxTMi03Vx7/edtITawhH/j3+G2zPUDR5XpxtKiik7nlJgVnUu3YP3+sjzBPR1e871biIbM38jjAw0J\",\n",
    "    \"origin\": \"https://steamdb.info\",\n",
    "    \"referer\": \"https://steamdb.info/sales/?__cf_chl_tk=Jrs60ajynl93RiacNz2kgOZ_v8e7JJNMU5XD2MtWe5U-1688675358-0-gaNycGzNC6U\",\n",
    "    \"sec-ch-ua\": '\"Not.A/Brand\";v=\"8\", \"Chromium\";v=\"114\", \"Google Chrome\";v=\"114\"',\n",
    "    \"sec-ch-ua-mobile\": \"?0\",\n",
    "    \"sec-ch-ua-platform\": '\"Windows\"',\n",
    "    \"sec-fetch-dest\": \"document\",\n",
    "    \"sec-fetch-mode\": \"navigate\",\n",
    "    \"sec-fetch-site\": \"same-origin\",\n",
    "    \"sec-fetch-user\": \"?1\",\n",
    "    \"upgrade-insecure-requests\": \"1\",\n",
    "    \"user-agent\": \"Mozilla/5.0 (Windows NT 10.0; Win64; x64) AppleWebKit/537.36 (KHTML, like Gecko) Chrome/114.0.0.0 Safari/537.36\"\n",
    "}"
   ]
  },
  {
   "cell_type": "markdown",
   "metadata": {},
   "source": [
    "## Realiza o método GET para extrair o HTML do respectivo site."
   ]
  },
  {
   "cell_type": "code",
   "execution_count": 3,
   "metadata": {},
   "outputs": [],
   "source": [
    "response = requests.get(url, headers=headers)\n",
    "if response.status_code == 200:\n",
    "    html_content = response.content\n",
    "else:\n",
    "    print('A solicitação não foi bem-sucedida. Código de status:', response.status_code)\n",
    "\n",
    "soup = BeautifulSoup(html_content, 'html.parser')"
   ]
  },
  {
   "cell_type": "markdown",
   "metadata": {},
   "source": [
    "## Cria listas para armazenar os dados extraídos do HTML, bem como listas auxiliares para manipular o dados e obter o resultado desejado."
   ]
  },
  {
   "cell_type": "code",
   "execution_count": 4,
   "metadata": {},
   "outputs": [],
   "source": [
    "titulos = []\n",
    "precos = []\n",
    "rating = []\n",
    "release = []\n",
    "vazio = []\n",
    "tratado= []\n",
    "aux = []"
   ]
  },
  {
   "cell_type": "markdown",
   "metadata": {},
   "source": [
    "## Realiza o tratamento dos dados do HTML:\n",
    "1. Encontra todos os elementos <td> que possuem a classe \"price-discount-major\". Esses elementos são armazenados na variável 'elementos'.\n",
    "2. Em seguida, o código itera sobre cada elemento encontrado na etapa anterior (elementos) e adiciona o texto do elemento pai (i.parent.text) à lista vazio.\n",
    "3. Após isso, é criado utro laço for, onde itera sobre cada elemento da lista vazio e, em seguida, itera sobre cada linha desse elemento (que é dividido usando a quebra de linha \\n como separador).\n",
    "4. Ao final, a lista aux (que contém as linhas não vazias de um elemento) é adicionada à lista tratado, e em seguida, a lista aux é redefinida como vazia.\n"
   ]
  },
  {
   "cell_type": "code",
   "execution_count": 5,
   "metadata": {},
   "outputs": [],
   "source": [
    "elementos = soup.find_all('td', class_='price-discount-major')\n",
    "for i in elementos:\n",
    "    vazio.append(i.parent.text)\n",
    "\n",
    "for j in vazio:\n",
    "    for p in j.split('\\n'):\n",
    "        if p != '':\n",
    "            aux.append(p)\n",
    "    tratado.append(aux)\n",
    "    aux = []"
   ]
  },
  {
   "cell_type": "markdown",
   "metadata": {},
   "source": [
    "## Cria o dataframe e insere os dados da lista 'tratado', após isso salva o dataframe em um CSV (steam_sales_data.csv) na pasta do projeto. Ao final, é possivel visualisar a amostra do respectivo dataframe."
   ]
  },
  {
   "cell_type": "code",
   "execution_count": 22,
   "metadata": {},
   "outputs": [
    {
     "data": {
      "text/html": [
       "<style type=\"text/css\">\n",
       "#T_7fee2_row0_col0, #T_7fee2_row0_col1, #T_7fee2_row0_col2, #T_7fee2_row0_col3, #T_7fee2_row0_col4, #T_7fee2_row0_col5, #T_7fee2_row1_col0, #T_7fee2_row1_col1, #T_7fee2_row1_col2, #T_7fee2_row1_col3, #T_7fee2_row1_col4, #T_7fee2_row1_col5, #T_7fee2_row2_col0, #T_7fee2_row2_col1, #T_7fee2_row2_col2, #T_7fee2_row2_col3, #T_7fee2_row2_col4, #T_7fee2_row2_col5, #T_7fee2_row3_col0, #T_7fee2_row3_col1, #T_7fee2_row3_col2, #T_7fee2_row3_col3, #T_7fee2_row3_col4, #T_7fee2_row3_col5, #T_7fee2_row4_col0, #T_7fee2_row4_col1, #T_7fee2_row4_col2, #T_7fee2_row4_col3, #T_7fee2_row4_col4, #T_7fee2_row4_col5, #T_7fee2_row5_col0, #T_7fee2_row5_col1, #T_7fee2_row5_col2, #T_7fee2_row5_col3, #T_7fee2_row5_col4, #T_7fee2_row5_col5, #T_7fee2_row6_col0, #T_7fee2_row6_col1, #T_7fee2_row6_col2, #T_7fee2_row6_col3, #T_7fee2_row6_col4, #T_7fee2_row6_col5, #T_7fee2_row7_col0, #T_7fee2_row7_col1, #T_7fee2_row7_col2, #T_7fee2_row7_col3, #T_7fee2_row7_col4, #T_7fee2_row7_col5, #T_7fee2_row8_col0, #T_7fee2_row8_col1, #T_7fee2_row8_col2, #T_7fee2_row8_col3, #T_7fee2_row8_col4, #T_7fee2_row8_col5, #T_7fee2_row9_col0, #T_7fee2_row9_col1, #T_7fee2_row9_col2, #T_7fee2_row9_col3, #T_7fee2_row9_col4, #T_7fee2_row9_col5 {\n",
       "  max-width: 100px;\n",
       "}\n",
       "</style>\n",
       "<table id=\"T_7fee2\">\n",
       "  <thead>\n",
       "    <tr>\n",
       "      <th class=\"blank level0\" >&nbsp;</th>\n",
       "      <th id=\"T_7fee2_level0_col0\" class=\"col_heading level0 col0\" >Name</th>\n",
       "      <th id=\"T_7fee2_level0_col1\" class=\"col_heading level0 col1\" >Highlighted_Deal</th>\n",
       "      <th id=\"T_7fee2_level0_col2\" class=\"col_heading level0 col2\" >Discount_Percentage</th>\n",
       "      <th id=\"T_7fee2_level0_col3\" class=\"col_heading level0 col3\" >Price</th>\n",
       "      <th id=\"T_7fee2_level0_col4\" class=\"col_heading level0 col4\" >Rating</th>\n",
       "      <th id=\"T_7fee2_level0_col5\" class=\"col_heading level0 col5\" >Release</th>\n",
       "    </tr>\n",
       "  </thead>\n",
       "  <tbody>\n",
       "    <tr>\n",
       "      <th id=\"T_7fee2_level0_row0\" class=\"row_heading level0 row0\" >0</th>\n",
       "      <td id=\"T_7fee2_row0_col0\" class=\"data row0 col0\" >Drakensang</td>\n",
       "      <td id=\"T_7fee2_row0_col1\" class=\"data row0 col1\" >new historical low</td>\n",
       "      <td id=\"T_7fee2_row0_col2\" class=\"data row0 col2\" >-0.800000</td>\n",
       "      <td id=\"T_7fee2_row0_col3\" class=\"data row0 col3\" >R$ 3,39</td>\n",
       "      <td id=\"T_7fee2_row0_col4\" class=\"data row0 col4\" >0.757100</td>\n",
       "      <td id=\"T_7fee2_row0_col5\" class=\"data row0 col5\" >Feb 2009</td>\n",
       "    </tr>\n",
       "    <tr>\n",
       "      <th id=\"T_7fee2_level0_row1\" class=\"row_heading level0 row1\" >1</th>\n",
       "      <td id=\"T_7fee2_row1_col0\" class=\"data row1 col0\" >Borderlands 2</td>\n",
       "      <td id=\"T_7fee2_row1_col1\" class=\"data row1 col1\" >all-time low: R$ 11,18</td>\n",
       "      <td id=\"T_7fee2_row1_col2\" class=\"data row1 col2\" >-0.750000</td>\n",
       "      <td id=\"T_7fee2_row1_col3\" class=\"data row1 col3\" >R$ 11,24</td>\n",
       "      <td id=\"T_7fee2_row1_col4\" class=\"data row1 col4\" >0.927900</td>\n",
       "      <td id=\"T_7fee2_row1_col5\" class=\"data row1 col5\" >Sep 2012</td>\n",
       "    </tr>\n",
       "    <tr>\n",
       "      <th id=\"T_7fee2_level0_row2\" class=\"row_heading level0 row2\" >2</th>\n",
       "      <td id=\"T_7fee2_row2_col0\" class=\"data row2 col0\" >Portal 2 - The Final Hours</td>\n",
       "      <td id=\"T_7fee2_row2_col1\" class=\"data row2 col1\" >new historical low</td>\n",
       "      <td id=\"T_7fee2_row2_col2\" class=\"data row2 col2\" >-0.800000</td>\n",
       "      <td id=\"T_7fee2_row2_col3\" class=\"data row2 col3\" >R$ 0,89</td>\n",
       "      <td id=\"T_7fee2_row2_col4\" class=\"data row2 col4\" >0.737200</td>\n",
       "      <td id=\"T_7fee2_row2_col5\" class=\"data row2 col5\" >May 2011</td>\n",
       "    </tr>\n",
       "    <tr>\n",
       "      <th id=\"T_7fee2_level0_row3\" class=\"row_heading level0 row3\" >3</th>\n",
       "      <td id=\"T_7fee2_row3_col0\" class=\"data row3 col0\" >Owlboy</td>\n",
       "      <td id=\"T_7fee2_row3_col1\" class=\"data row3 col1\" >new historical low</td>\n",
       "      <td id=\"T_7fee2_row3_col2\" class=\"data row3 col2\" >-0.650000</td>\n",
       "      <td id=\"T_7fee2_row3_col3\" class=\"data row3 col3\" >R$ 16,09</td>\n",
       "      <td id=\"T_7fee2_row3_col4\" class=\"data row3 col4\" >0.818000</td>\n",
       "      <td id=\"T_7fee2_row3_col5\" class=\"data row3 col5\" >Nov 2016</td>\n",
       "    </tr>\n",
       "    <tr>\n",
       "      <th id=\"T_7fee2_level0_row4\" class=\"row_heading level0 row4\" >4</th>\n",
       "      <td id=\"T_7fee2_row4_col0\" class=\"data row4 col0\" >Really Big Sky</td>\n",
       "      <td id=\"T_7fee2_row4_col1\" class=\"data row4 col1\" >new historical low</td>\n",
       "      <td id=\"T_7fee2_row4_col2\" class=\"data row4 col2\" >-0.850000</td>\n",
       "      <td id=\"T_7fee2_row4_col3\" class=\"data row4 col3\" >R$ 1,57</td>\n",
       "      <td id=\"T_7fee2_row4_col4\" class=\"data row4 col4\" >0.728700</td>\n",
       "      <td id=\"T_7fee2_row4_col5\" class=\"data row4 col5\" >Feb 2012</td>\n",
       "    </tr>\n",
       "    <tr>\n",
       "      <th id=\"T_7fee2_level0_row5\" class=\"row_heading level0 row5\" >5</th>\n",
       "      <td id=\"T_7fee2_row5_col0\" class=\"data row5 col0\" >Distance</td>\n",
       "      <td id=\"T_7fee2_row5_col1\" class=\"data row5 col1\" >new historical low</td>\n",
       "      <td id=\"T_7fee2_row5_col2\" class=\"data row5 col2\" >-0.800000</td>\n",
       "      <td id=\"T_7fee2_row5_col3\" class=\"data row5 col3\" >R$ 9,49</td>\n",
       "      <td id=\"T_7fee2_row5_col4\" class=\"data row5 col4\" >0.897900</td>\n",
       "      <td id=\"T_7fee2_row5_col5\" class=\"data row5 col5\" >Sep 2018</td>\n",
       "    </tr>\n",
       "    <tr>\n",
       "      <th id=\"T_7fee2_level0_row6\" class=\"row_heading level0 row6\" >6</th>\n",
       "      <td id=\"T_7fee2_row6_col0\" class=\"data row6 col0\" >Bridge Constructor</td>\n",
       "      <td id=\"T_7fee2_row6_col1\" class=\"data row6 col1\" >new historical low</td>\n",
       "      <td id=\"T_7fee2_row6_col2\" class=\"data row6 col2\" >-0.900000</td>\n",
       "      <td id=\"T_7fee2_row6_col3\" class=\"data row6 col3\" >R$ 1,69</td>\n",
       "      <td id=\"T_7fee2_row6_col4\" class=\"data row6 col4\" >0.730500</td>\n",
       "      <td id=\"T_7fee2_row6_col5\" class=\"data row6 col5\" >Oct 2013</td>\n",
       "    </tr>\n",
       "    <tr>\n",
       "      <th id=\"T_7fee2_level0_row7\" class=\"row_heading level0 row7\" >7</th>\n",
       "      <td id=\"T_7fee2_row7_col0\" class=\"data row7 col0\" >Livelock</td>\n",
       "      <td id=\"T_7fee2_row7_col1\" class=\"data row7 col1\" >new historical low</td>\n",
       "      <td id=\"T_7fee2_row7_col2\" class=\"data row7 col2\" >-0.850000</td>\n",
       "      <td id=\"T_7fee2_row7_col3\" class=\"data row7 col3\" >R$ 3,10</td>\n",
       "      <td id=\"T_7fee2_row7_col4\" class=\"data row7 col4\" >0.753800</td>\n",
       "      <td id=\"T_7fee2_row7_col5\" class=\"data row7 col5\" >Aug 2016</td>\n",
       "    </tr>\n",
       "    <tr>\n",
       "      <th id=\"T_7fee2_level0_row8\" class=\"row_heading level0 row8\" >8</th>\n",
       "      <td id=\"T_7fee2_row8_col0\" class=\"data row8 col0\" >The Inner World</td>\n",
       "      <td id=\"T_7fee2_row8_col1\" class=\"data row8 col1\" >new historical low</td>\n",
       "      <td id=\"T_7fee2_row8_col2\" class=\"data row8 col2\" >-0.900000</td>\n",
       "      <td id=\"T_7fee2_row8_col3\" class=\"data row8 col3\" >R$ 2,49</td>\n",
       "      <td id=\"T_7fee2_row8_col4\" class=\"data row8 col4\" >0.856000</td>\n",
       "      <td id=\"T_7fee2_row8_col5\" class=\"data row8 col5\" >Sep 2013</td>\n",
       "    </tr>\n",
       "    <tr>\n",
       "      <th id=\"T_7fee2_level0_row9\" class=\"row_heading level0 row9\" >9</th>\n",
       "      <td id=\"T_7fee2_row9_col0\" class=\"data row9 col0\" >SteamWorld Dig</td>\n",
       "      <td id=\"T_7fee2_row9_col1\" class=\"data row9 col1\" >new historical low</td>\n",
       "      <td id=\"T_7fee2_row9_col2\" class=\"data row9 col2\" >-0.900000</td>\n",
       "      <td id=\"T_7fee2_row9_col3\" class=\"data row9 col3\" >R$ 2,06</td>\n",
       "      <td id=\"T_7fee2_row9_col4\" class=\"data row9 col4\" >0.906100</td>\n",
       "      <td id=\"T_7fee2_row9_col5\" class=\"data row9 col5\" >Dec 2013</td>\n",
       "    </tr>\n",
       "  </tbody>\n",
       "</table>\n"
      ],
      "text/plain": [
       "<pandas.io.formats.style.Styler at 0x1ae1682ba60>"
      ]
     },
     "metadata": {},
     "output_type": "display_data"
    }
   ],
   "source": [
    "df = pd.DataFrame(columns=['Name', 'Highlighted_Deal', 'Discount_Percentage', 'Price', 'Rating', 'Release'])\n",
    "data_to_append = []\n",
    "\n",
    "for dado in tratado:\n",
    "    data_to_append.append({\n",
    "        'Name': dado[0],\n",
    "        'Highlighted_Deal': dado[1],\n",
    "        'Discount_Percentage': dado[2],\n",
    "        'Price': dado[3],\n",
    "        'Rating': dado[4],\n",
    "        'Release': dado[5]\n",
    "    })\n",
    "\n",
    "df = pd.concat([df, pd.DataFrame(data_to_append)], ignore_index=True)\n",
    "\n",
    "df['Discount_Percentage'] = df['Discount_Percentage'].str.replace('%', '').astype(int) / 100\n",
    "df['Rating'] = df['Rating'].str.replace('%', '').astype(float) / 100\n",
    "\n",
    "df.to_csv('steam_sales_data.csv', index=False, encoding='utf-8')\n",
    "\n",
    "styled_df = df.head(10).style.set_properties(**{'max-width': '100px'})\n",
    "display(styled_df)"
   ]
  },
  {
   "cell_type": "markdown",
   "metadata": {},
   "source": [
    "## Lê o csv salvo na pasta do projeto e insere no DW do Google Big Query."
   ]
  },
  {
   "cell_type": "code",
   "execution_count": 24,
   "metadata": {},
   "outputs": [
    {
     "name": "stderr",
     "output_type": "stream",
     "text": [
      "100%|██████████| 1/1 [00:00<?, ?it/s]\n"
     ]
    }
   ],
   "source": [
    "steam_data = pd.read_csv('steam_sales_data.csv')\n",
    "key_path = r\"C:\\Users\\filip\\Desktop\\python_codigos\\GBQ.json\"\n",
    "credentials = service_account.Credentials.from_service_account_file(key_path, scopes=[\"https://www.googleapis.com/auth/cloud-platform\"])\n",
    "steam_data.to_gbq(credentials=credentials, destination_table='beanalytic.steam_data',if_exists='replace')"
   ]
  }
 ],
 "metadata": {
  "kernelspec": {
   "display_name": "Python 3",
   "language": "python",
   "name": "python3"
  },
  "language_info": {
   "codemirror_mode": {
    "name": "ipython",
    "version": 3
   },
   "file_extension": ".py",
   "mimetype": "text/x-python",
   "name": "python",
   "nbconvert_exporter": "python",
   "pygments_lexer": "ipython3",
   "version": "3.10.11"
  },
  "orig_nbformat": 4
 },
 "nbformat": 4,
 "nbformat_minor": 2
}
